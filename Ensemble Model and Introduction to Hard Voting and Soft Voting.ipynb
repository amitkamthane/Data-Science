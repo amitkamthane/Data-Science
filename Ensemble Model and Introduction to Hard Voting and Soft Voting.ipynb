{
 "cells": [
  {
   "cell_type": "markdown",
   "metadata": {
    "toc": true
   },
   "source": [
    "<h1>Table of Contents<span class=\"tocSkip\"></span></h1>\n",
    "<div class=\"toc\"><ul class=\"toc-item\"><li><span><a href=\"#Introduction-to-Ensemble-Methods-on-Diabetes-dataset\" data-toc-modified-id=\"Introduction-to-Ensemble-Methods-on-Diabetes-dataset-1\"><span class=\"toc-item-num\">1&nbsp;&nbsp;</span>Introduction to Ensemble Methods on Diabetes dataset</a></span><ul class=\"toc-item\"><li><span><a href=\"#Load-Dataset-Diabetes.csv\" data-toc-modified-id=\"Load-Dataset-Diabetes.csv-1.1\"><span class=\"toc-item-num\">1.1&nbsp;&nbsp;</span>Load Dataset Diabetes.csv</a></span></li><li><span><a href=\"#Perform-Normalisation\" data-toc-modified-id=\"Perform-Normalisation-1.2\"><span class=\"toc-item-num\">1.2&nbsp;&nbsp;</span>Perform Normalisation</a></span></li><li><span><a href=\"#Split-The-dataset-ratio-80-and-20\" data-toc-modified-id=\"Split-The-dataset-ratio-80-and-20-1.3\"><span class=\"toc-item-num\">1.3&nbsp;&nbsp;</span>Split The dataset ratio 80 and 20</a></span></li></ul></li><li><span><a href=\"#Instantinate-all-classifier-want-to-ensemble\" data-toc-modified-id=\"Instantinate-all-classifier-want-to-ensemble-2\"><span class=\"toc-item-num\">2&nbsp;&nbsp;</span>Instantinate all classifier want to ensemble</a></span><ul class=\"toc-item\"><li><span><a href=\"#Find-accuracy-all-ensemble-model\" data-toc-modified-id=\"Find-accuracy-all-ensemble-model-2.1\"><span class=\"toc-item-num\">2.1&nbsp;&nbsp;</span>Find accuracy all ensemble model</a></span></li></ul></li><li><span><a href=\"#Intoduction-to-Hard-Voting-and-Soft-Voting\" data-toc-modified-id=\"Intoduction-to-Hard-Voting-and-Soft-Voting-3\"><span class=\"toc-item-num\">3&nbsp;&nbsp;</span>Intoduction to Hard Voting and Soft Voting</a></span><ul class=\"toc-item\"><li><span><a href=\"#Pre-requiste:-pip-install-mlxtend\" data-toc-modified-id=\"Pre-requiste:-pip-install-mlxtend-3.1\"><span class=\"toc-item-num\">3.1&nbsp;&nbsp;</span>Pre-requiste: pip install mlxtend</a></span></li><li><span><a href=\"#Instantinate-EnsembleVoteClassifier\" data-toc-modified-id=\"Instantinate-EnsembleVoteClassifier-3.2\"><span class=\"toc-item-num\">3.2&nbsp;&nbsp;</span>Instantinate EnsembleVoteClassifier</a></span></li><li><span><a href=\"#Find-accuracy-through-Hard-and-Soft-Voting-mechanism\" data-toc-modified-id=\"Find-accuracy-through-Hard-and-Soft-Voting-mechanism-3.3\"><span class=\"toc-item-num\">3.3&nbsp;&nbsp;</span>Find accuracy through Hard and Soft Voting mechanism</a></span></li></ul></li></ul></div>"
   ]
  },
  {
   "cell_type": "markdown",
   "metadata": {},
   "source": [
    "### Introduction to Ensemble Methods on Diabetes dataset"
   ]
  },
  {
   "cell_type": "code",
   "execution_count": 1,
   "metadata": {},
   "outputs": [],
   "source": [
    "import pandas as pd\n",
    "import numpy as np\n",
    "from sklearn.tree import DecisionTreeClassifier\n",
    "from sklearn.linear_model import LogisticRegression\n",
    "from sklearn.ensemble import GradientBoostingClassifier\n",
    "from sklearn.ensemble import RandomForestClassifier,BaggingClassifier\n",
    "from sklearn.neighbors import KNeighborsClassifier\n",
    "from sklearn.preprocessing import StandardScaler\n",
    "from collections import Counter\n",
    "from sklearn.metrics import confusion_matrix,accuracy_score\n",
    "from sklearn.model_selection import train_test_split,KFold,StratifiedKFold,cross_val_predict,cross_val_score"
   ]
  },
  {
   "cell_type": "markdown",
   "metadata": {},
   "source": [
    "####  Load Dataset Diabetes.csv"
   ]
  },
  {
   "cell_type": "code",
   "execution_count": 2,
   "metadata": {},
   "outputs": [],
   "source": [
    "df = pd.read_csv(r'Diabetes.csv')"
   ]
  },
  {
   "cell_type": "code",
   "execution_count": 3,
   "metadata": {},
   "outputs": [],
   "source": [
    "X = df.iloc[:,:8]\n",
    "y=df['class']"
   ]
  },
  {
   "cell_type": "markdown",
   "metadata": {},
   "source": [
    "#### Perform Normalisation "
   ]
  },
  {
   "cell_type": "code",
   "execution_count": 4,
   "metadata": {},
   "outputs": [],
   "source": [
    "X_std = StandardScaler()\n",
    "X  = X_std.fit_transform(X)"
   ]
  },
  {
   "cell_type": "markdown",
   "metadata": {},
   "source": [
    "#### Split The dataset ratio 80 and 20"
   ]
  },
  {
   "cell_type": "code",
   "execution_count": 5,
   "metadata": {},
   "outputs": [],
   "source": [
    "X_train, X_test, y_train, y_test = train_test_split(X,y,test_size=0.2,random_state=201)"
   ]
  },
  {
   "cell_type": "code",
   "execution_count": 6,
   "metadata": {},
   "outputs": [
    {
     "name": "stdout",
     "output_type": "stream",
     "text": [
      "(614, 8)\n",
      "(154, 8)\n",
      "(614,)\n",
      "(154,)\n"
     ]
    }
   ],
   "source": [
    "print(X_train.shape)\n",
    "print(X_test.shape)\n",
    "print(y_train.shape)\n",
    "print(y_test.shape)"
   ]
  },
  {
   "cell_type": "markdown",
   "metadata": {},
   "source": [
    "### Instantinate all classifier want to ensemble"
   ]
  },
  {
   "cell_type": "code",
   "execution_count": 7,
   "metadata": {},
   "outputs": [],
   "source": [
    "lr = LogisticRegression(random_state=2017)\n",
    "rf = RandomForestClassifier(random_state=2017,n_estimators=100)\n",
    "dt = DecisionTreeClassifier(random_state=2017)\n",
    "bc = BaggingClassifier(n_estimators=100,random_state=2017)\n",
    "knc = KNeighborsClassifier()\n",
    "gr = GradientBoostingClassifier(n_estimators=100)"
   ]
  },
  {
   "cell_type": "markdown",
   "metadata": {},
   "source": [
    "#### Find accuracy all ensemble model"
   ]
  },
  {
   "cell_type": "code",
   "execution_count": 8,
   "metadata": {},
   "outputs": [
    {
     "name": "stdout",
     "output_type": "stream",
     "text": [
      "label: logistic Regression  Accuracy: 76.55 \n",
      "label: logistic Regression  Test Accuracy: 79.22 \n",
      "******************************\n",
      "label: Random Forest classifier  Accuracy: 78.50 \n",
      "label: Random Forest classifier  Test Accuracy: 100.00 \n",
      "******************************\n",
      "label: Decision Tree Classifier  Accuracy: 71.66 \n",
      "label: Decision Tree Classifier  Test Accuracy: 100.00 \n",
      "******************************\n",
      "label: Bagging Classifier  Accuracy: 77.86 \n",
      "label: Bagging Classifier  Test Accuracy: 100.00 \n",
      "******************************\n",
      "label: K Nearest Neigbour Classifier  Accuracy: 75.74 \n",
      "label: K Nearest Neigbour Classifier  Test Accuracy: 79.22 \n",
      "******************************\n",
      "label: Gradinet Boosting  Accuracy: 77.04 \n",
      "label: Gradinet Boosting  Test Accuracy: 88.96 \n",
      "******************************\n"
     ]
    }
   ],
   "source": [
    "clfs=[]\n",
    "for clf, labels in zip([lr,rf,dt,bc,knc,gr],['logistic Regression','Random Forest classifier',\n",
    "                                           'Decision Tree Classifier','Bagging Classifier',\n",
    "                                           'K Nearest Neigbour Classifier','Gradinet Boosting']):\n",
    "    \n",
    "    scores = cross_val_score(clf,X_train,y_train,cv=5)\n",
    "    print('label: %s  Accuracy: %0.2f '%(labels,np.mean(scores)*100))\n",
    "    md = clf.fit(X,y)\n",
    "    clfs.append(md)\n",
    "    print('label: %s  Test Accuracy: %0.2f '%(labels, accuracy_score(clf.predict(X_test),y_test)*100))\n",
    "    print('*'*30)\n"
   ]
  },
  {
   "cell_type": "markdown",
   "metadata": {},
   "source": [
    "### Intoduction to Hard Voting and Soft Voting"
   ]
  },
  {
   "cell_type": "markdown",
   "metadata": {},
   "source": [
    "#### Pre-requiste: pip install mlxtend"
   ]
  },
  {
   "cell_type": "code",
   "execution_count": 12,
   "metadata": {},
   "outputs": [],
   "source": [
    "from sklearn.ensemble import VotingClassifier\n",
    "from mlxtend.classifier import StackingClassifier,EnsembleVoteClassifier"
   ]
  },
  {
   "cell_type": "markdown",
   "metadata": {},
   "source": [
    "#### Instantinate EnsembleVoteClassifier"
   ]
  },
  {
   "cell_type": "code",
   "execution_count": 13,
   "metadata": {},
   "outputs": [],
   "source": [
    "clfs=[]\n",
    "ECH = EnsembleVoteClassifier(clfs=[lr,rf,gr],voting='hard')\n",
    "ECS = EnsembleVoteClassifier(clfs=[lr,rf,gr],voting='soft')"
   ]
  },
  {
   "cell_type": "markdown",
   "metadata": {},
   "source": [
    "#### Find accuracy through Hard and Soft Voting mechanism "
   ]
  },
  {
   "cell_type": "code",
   "execution_count": 22,
   "metadata": {},
   "outputs": [
    {
     "name": "stdout",
     "output_type": "stream",
     "text": [
      "Label: Ensemble Hard Voting, Training Accuracy 0.79: \n",
      "Label: Ensemble Hard Voting, Testing Accuracy 0.77: \n",
      "****************************************\n",
      "Label: Ensemble Soft Voting, Training Accuracy 0.79: \n",
      "Label: Ensemble Soft Voting, Testing Accuracy 0.75: \n",
      "****************************************\n"
     ]
    }
   ],
   "source": [
    "for clf,label in zip([ECH,ECS],['Ensemble Hard Voting','Ensemble Soft Voting']):\n",
    "    scores = cross_val_score(clf,X_train,y_train,cv=5,scoring='accuracy')\n",
    "    print('Label: %s, Training Accuracy %0.2f: '%(label,(np.mean(scores))))\n",
    "    md = clf.fit(X_train, y_train)\n",
    "    clfs.append(md)\n",
    "    print('Label: %s, Testing Accuracy %0.2f: '%(label, accuracy_score(y_test, clf.predict(X_test))))\n",
    "    print('*'*40)"
   ]
  },
  {
   "cell_type": "code",
   "execution_count": null,
   "metadata": {},
   "outputs": [],
   "source": []
  }
 ],
 "metadata": {
  "kernelspec": {
   "display_name": "Python 3",
   "language": "python",
   "name": "python3"
  },
  "language_info": {
   "codemirror_mode": {
    "name": "ipython",
    "version": 3
   },
   "file_extension": ".py",
   "mimetype": "text/x-python",
   "name": "python",
   "nbconvert_exporter": "python",
   "pygments_lexer": "ipython3",
   "version": "3.6.8"
  },
  "toc": {
   "base_numbering": 1,
   "nav_menu": {},
   "number_sections": true,
   "sideBar": true,
   "skip_h1_title": false,
   "title_cell": "Table of Contents",
   "title_sidebar": "Contents",
   "toc_cell": true,
   "toc_position": {},
   "toc_section_display": true,
   "toc_window_display": true
  }
 },
 "nbformat": 4,
 "nbformat_minor": 2
}
